{
 "cells": [
  {
   "cell_type": "markdown",
   "metadata": {},
   "source": [
    "# Análise de dados\n",
    "\n",
    "## Métricas\n",
    "\n",
    "Taxa de transmissão média\n",
    "\n",
    "## Parâmetros fixados\n",
    "\n",
    "- Links ethernet 1 Gbps\n",
    "- Links entre PC e roteador com BER 0\n",
    "- Janela padrão do TCP\n",
    "- Tráfego de background somente UDP\n",
    "\n",
    "## Fatores e níveis\n",
    "\n",
    "- Algoritmo de congestionamento\n",
    "    - Cubic\n",
    "    - Reno\n",
    "- BER entre os roteadores 1 e 2\n",
    "    - 1e-5\n",
    "    - 1e-6\n",
    "- Delay no link entre roteadores\n",
    "    - 10ms\n",
    "    - 100ms\n",
    "- Tráfego de background\n",
    "    - 10 Mbps\n",
    "    - 500 Mbps\n",
    "\n",
    "## Técnicas utilizadas\n",
    "\n",
    "Simulação com IMUNES e iperf"
   ]
  },
  {
   "cell_type": "markdown",
   "metadata": {},
   "source": [
    "## Importando bibliotecas"
   ]
  },
  {
   "cell_type": "code",
   "execution_count": 66,
   "metadata": {},
   "outputs": [],
   "source": [
    "import pandas as pd\n",
    "import numpy as np\n",
    "import matplotlib.pyplot as plt"
   ]
  },
  {
   "cell_type": "markdown",
   "metadata": {},
   "source": [
    "## Amostra dos dados"
   ]
  },
  {
   "cell_type": "code",
   "execution_count": 67,
   "metadata": {},
   "outputs": [
    {
     "data": {
      "text/html": [
       "<div>\n",
       "<style scoped>\n",
       "    .dataframe tbody tr th:only-of-type {\n",
       "        vertical-align: middle;\n",
       "    }\n",
       "\n",
       "    .dataframe tbody tr th {\n",
       "        vertical-align: top;\n",
       "    }\n",
       "\n",
       "    .dataframe thead th {\n",
       "        text-align: right;\n",
       "    }\n",
       "</style>\n",
       "<table border=\"1\" class=\"dataframe\">\n",
       "  <thead>\n",
       "    <tr style=\"text-align: right;\">\n",
       "      <th></th>\n",
       "      <th>REPETICAO</th>\n",
       "      <th>PROTOCOLO</th>\n",
       "      <th>BER</th>\n",
       "      <th>DELAY</th>\n",
       "      <th>BANDA UDP</th>\n",
       "      <th>TIMESTAMP</th>\n",
       "      <th>IP PC1</th>\n",
       "      <th>PORTA PC1</th>\n",
       "      <th>IP PC2</th>\n",
       "      <th>PORTA PC2</th>\n",
       "      <th>ID</th>\n",
       "      <th>INTERVALO</th>\n",
       "      <th>TAXA DE TRANSFERENCIA</th>\n",
       "      <th>BANDA TCP</th>\n",
       "    </tr>\n",
       "  </thead>\n",
       "  <tbody>\n",
       "    <tr>\n",
       "      <th>0</th>\n",
       "      <td>0</td>\n",
       "      <td>cubic</td>\n",
       "      <td>1000000</td>\n",
       "      <td>10000</td>\n",
       "      <td>10M</td>\n",
       "      <td>20240322130834</td>\n",
       "      <td>10.0.2.20</td>\n",
       "      <td>40972</td>\n",
       "      <td>10.0.0.20</td>\n",
       "      <td>5001</td>\n",
       "      <td>3</td>\n",
       "      <td>0.0-10.0</td>\n",
       "      <td>71827456</td>\n",
       "      <td>57242177</td>\n",
       "    </tr>\n",
       "    <tr>\n",
       "      <th>1</th>\n",
       "      <td>0</td>\n",
       "      <td>cubic</td>\n",
       "      <td>1000000</td>\n",
       "      <td>100000</td>\n",
       "      <td>10M</td>\n",
       "      <td>20240322130848</td>\n",
       "      <td>10.0.2.20</td>\n",
       "      <td>51456</td>\n",
       "      <td>10.0.0.20</td>\n",
       "      <td>5001</td>\n",
       "      <td>3</td>\n",
       "      <td>0.0-11.3</td>\n",
       "      <td>9437184</td>\n",
       "      <td>6682812</td>\n",
       "    </tr>\n",
       "    <tr>\n",
       "      <th>2</th>\n",
       "      <td>0</td>\n",
       "      <td>cubic</td>\n",
       "      <td>100000</td>\n",
       "      <td>10000</td>\n",
       "      <td>10M</td>\n",
       "      <td>20240322130900</td>\n",
       "      <td>10.0.2.20</td>\n",
       "      <td>57884</td>\n",
       "      <td>10.0.0.20</td>\n",
       "      <td>5001</td>\n",
       "      <td>3</td>\n",
       "      <td>0.0-10.2</td>\n",
       "      <td>3538944</td>\n",
       "      <td>2787713</td>\n",
       "    </tr>\n",
       "    <tr>\n",
       "      <th>3</th>\n",
       "      <td>0</td>\n",
       "      <td>cubic</td>\n",
       "      <td>100000</td>\n",
       "      <td>100000</td>\n",
       "      <td>10M</td>\n",
       "      <td>20240322130916</td>\n",
       "      <td>10.0.2.20</td>\n",
       "      <td>41390</td>\n",
       "      <td>10.0.0.20</td>\n",
       "      <td>5001</td>\n",
       "      <td>3</td>\n",
       "      <td>0.0-13.0</td>\n",
       "      <td>786432</td>\n",
       "      <td>485438</td>\n",
       "    </tr>\n",
       "    <tr>\n",
       "      <th>4</th>\n",
       "      <td>0</td>\n",
       "      <td>reno</td>\n",
       "      <td>1000000</td>\n",
       "      <td>10000</td>\n",
       "      <td>10M</td>\n",
       "      <td>20240322130929</td>\n",
       "      <td>10.0.2.20</td>\n",
       "      <td>55094</td>\n",
       "      <td>10.0.0.20</td>\n",
       "      <td>5001</td>\n",
       "      <td>3</td>\n",
       "      <td>0.0-10.8</td>\n",
       "      <td>32636928</td>\n",
       "      <td>24181939</td>\n",
       "    </tr>\n",
       "    <tr>\n",
       "      <th>...</th>\n",
       "      <td>...</td>\n",
       "      <td>...</td>\n",
       "      <td>...</td>\n",
       "      <td>...</td>\n",
       "      <td>...</td>\n",
       "      <td>...</td>\n",
       "      <td>...</td>\n",
       "      <td>...</td>\n",
       "      <td>...</td>\n",
       "      <td>...</td>\n",
       "      <td>...</td>\n",
       "      <td>...</td>\n",
       "      <td>...</td>\n",
       "      <td>...</td>\n",
       "    </tr>\n",
       "    <tr>\n",
       "      <th>123</th>\n",
       "      <td>7</td>\n",
       "      <td>cubic</td>\n",
       "      <td>100000</td>\n",
       "      <td>100000</td>\n",
       "      <td>500M</td>\n",
       "      <td>20240322133620</td>\n",
       "      <td>10.0.2.20</td>\n",
       "      <td>39206</td>\n",
       "      <td>10.0.0.20</td>\n",
       "      <td>5001</td>\n",
       "      <td>3</td>\n",
       "      <td>0.0-14.1</td>\n",
       "      <td>1815792</td>\n",
       "      <td>1032665</td>\n",
       "    </tr>\n",
       "    <tr>\n",
       "      <th>124</th>\n",
       "      <td>7</td>\n",
       "      <td>reno</td>\n",
       "      <td>1000000</td>\n",
       "      <td>10000</td>\n",
       "      <td>500M</td>\n",
       "      <td>20240322133632</td>\n",
       "      <td>10.0.2.20</td>\n",
       "      <td>39074</td>\n",
       "      <td>10.0.0.20</td>\n",
       "      <td>5001</td>\n",
       "      <td>3</td>\n",
       "      <td>0.0-10.2</td>\n",
       "      <td>97517568</td>\n",
       "      <td>76701281</td>\n",
       "    </tr>\n",
       "    <tr>\n",
       "      <th>125</th>\n",
       "      <td>7</td>\n",
       "      <td>reno</td>\n",
       "      <td>1000000</td>\n",
       "      <td>100000</td>\n",
       "      <td>500M</td>\n",
       "      <td>20240322133649</td>\n",
       "      <td>10.0.2.20</td>\n",
       "      <td>47434</td>\n",
       "      <td>10.0.0.20</td>\n",
       "      <td>5001</td>\n",
       "      <td>3</td>\n",
       "      <td>0.0-14.2</td>\n",
       "      <td>8777776</td>\n",
       "      <td>4933624</td>\n",
       "    </tr>\n",
       "    <tr>\n",
       "      <th>126</th>\n",
       "      <td>7</td>\n",
       "      <td>reno</td>\n",
       "      <td>100000</td>\n",
       "      <td>10000</td>\n",
       "      <td>500M</td>\n",
       "      <td>20240322133702</td>\n",
       "      <td>10.0.2.20</td>\n",
       "      <td>52354</td>\n",
       "      <td>10.0.0.20</td>\n",
       "      <td>5001</td>\n",
       "      <td>3</td>\n",
       "      <td>0.0-10.4</td>\n",
       "      <td>6160384</td>\n",
       "      <td>4731917</td>\n",
       "    </tr>\n",
       "    <tr>\n",
       "      <th>127</th>\n",
       "      <td>7</td>\n",
       "      <td>reno</td>\n",
       "      <td>100000</td>\n",
       "      <td>100000</td>\n",
       "      <td>500M</td>\n",
       "      <td>20240322133719</td>\n",
       "      <td>10.0.2.20</td>\n",
       "      <td>52238</td>\n",
       "      <td>10.0.0.20</td>\n",
       "      <td>5001</td>\n",
       "      <td>3</td>\n",
       "      <td>0.0-14.5</td>\n",
       "      <td>1549360</td>\n",
       "      <td>854434</td>\n",
       "    </tr>\n",
       "  </tbody>\n",
       "</table>\n",
       "<p>128 rows × 14 columns</p>\n",
       "</div>"
      ],
      "text/plain": [
       "     REPETICAO PROTOCOLO      BER   DELAY BANDA UDP       TIMESTAMP  \\\n",
       "0            0     cubic  1000000   10000       10M  20240322130834   \n",
       "1            0     cubic  1000000  100000       10M  20240322130848   \n",
       "2            0     cubic   100000   10000       10M  20240322130900   \n",
       "3            0     cubic   100000  100000       10M  20240322130916   \n",
       "4            0      reno  1000000   10000       10M  20240322130929   \n",
       "..         ...       ...      ...     ...       ...             ...   \n",
       "123          7     cubic   100000  100000      500M  20240322133620   \n",
       "124          7      reno  1000000   10000      500M  20240322133632   \n",
       "125          7      reno  1000000  100000      500M  20240322133649   \n",
       "126          7      reno   100000   10000      500M  20240322133702   \n",
       "127          7      reno   100000  100000      500M  20240322133719   \n",
       "\n",
       "        IP PC1  PORTA PC1     IP PC2  PORTA PC2  ID INTERVALO  \\\n",
       "0    10.0.2.20      40972  10.0.0.20       5001   3  0.0-10.0   \n",
       "1    10.0.2.20      51456  10.0.0.20       5001   3  0.0-11.3   \n",
       "2    10.0.2.20      57884  10.0.0.20       5001   3  0.0-10.2   \n",
       "3    10.0.2.20      41390  10.0.0.20       5001   3  0.0-13.0   \n",
       "4    10.0.2.20      55094  10.0.0.20       5001   3  0.0-10.8   \n",
       "..         ...        ...        ...        ...  ..       ...   \n",
       "123  10.0.2.20      39206  10.0.0.20       5001   3  0.0-14.1   \n",
       "124  10.0.2.20      39074  10.0.0.20       5001   3  0.0-10.2   \n",
       "125  10.0.2.20      47434  10.0.0.20       5001   3  0.0-14.2   \n",
       "126  10.0.2.20      52354  10.0.0.20       5001   3  0.0-10.4   \n",
       "127  10.0.2.20      52238  10.0.0.20       5001   3  0.0-14.5   \n",
       "\n",
       "     TAXA DE TRANSFERENCIA  BANDA TCP  \n",
       "0                 71827456   57242177  \n",
       "1                  9437184    6682812  \n",
       "2                  3538944    2787713  \n",
       "3                   786432     485438  \n",
       "4                 32636928   24181939  \n",
       "..                     ...        ...  \n",
       "123                1815792    1032665  \n",
       "124               97517568   76701281  \n",
       "125                8777776    4933624  \n",
       "126                6160384    4731917  \n",
       "127                1549360     854434  \n",
       "\n",
       "[128 rows x 14 columns]"
      ]
     },
     "execution_count": 67,
     "metadata": {},
     "output_type": "execute_result"
    }
   ],
   "source": [
    "dados = pd.read_csv('data/dados.csv')\n",
    "dados"
   ]
  },
  {
   "cell_type": "markdown",
   "metadata": {},
   "source": [
    "## Cenários\n",
    "\n",
    "Compararemos os algoritmos de congestionamento Cubic e Reno variando cada um dos 3 outros fatores em 2 níveis, totalizando 8 cenários de comparação."
   ]
  },
  {
   "cell_type": "markdown",
   "metadata": {},
   "source": [
    "### Cenário 1\n",
    "- Tráfego UDP 10 Mbps\n",
    "- BER 1e-5\n",
    "- Delay 10ms"
   ]
  },
  {
   "cell_type": "code",
   "execution_count": 68,
   "metadata": {},
   "outputs": [
    {
     "name": "stdout",
     "output_type": "stream",
     "text": [
      "Média da taxa do algoritmo cubic: 4.29 Mbps\n",
      "Média da taxa do algoritmo reno: 4.6 Mbps\n"
     ]
    },
    {
     "data": {
      "image/png": "[encoded data removed]",
      "text/plain": [
       "<Figure size 640x480 with 1 Axes>"
      ]
     },
     "metadata": {},
     "output_type": "display_data"
    }
   ],
   "source": [
    "dados_cenario = dados[(dados['BANDA UDP'] == '10M') & (dados['BER'] == 100000) & (dados['DELAY'] == 10000)]\n",
    "dados_cenario_cubic = dados_cenario[dados_cenario['PROTOCOLO'] == 'cubic']\n",
    "dados_cenario_reno = dados_cenario[dados_cenario['PROTOCOLO'] == 'reno']\n",
    "cubic_taxa_media = dados_cenario_cubic['TAXA DE TRANSFERENCIA'].mean()/1000000\n",
    "reno_taxa_media = dados_cenario_reno['TAXA DE TRANSFERENCIA'].mean()/1000000\n",
    "print(f\"Média da taxa do algoritmo cubic: {cubic_taxa_media:.3} Mbps\")\n",
    "print(f\"Média da taxa do algoritmo reno: {reno_taxa_media:.3} Mbps\")\n",
    "plt.bar(\"Cubic\",cubic_taxa_media)\n",
    "plt.bar(\"Reno\",reno_taxa_media)\n",
    "plt.title('Cubic x Reno')\n",
    "plt.show()"
   ]
  },
  {
   "cell_type": "markdown",
   "metadata": {},
   "source": [
    "### Cenário 2\n",
    "- Tráfego UDP 10 Mbps\n",
    "- BER 1e-5\n",
    "- Delay 100ms"
   ]
  },
  {
   "cell_type": "code",
   "execution_count": 69,
   "metadata": {},
   "outputs": [
    {
     "name": "stdout",
     "output_type": "stream",
     "text": [
      "Média da taxa do algoritmo cubic: 1.22 Mbps\n",
      "Média da taxa do algoritmo reno: 1.16 Mbps\n"
     ]
    },
    {
     "data": {
      "image/png": "[encoded data removed]",
      "text/plain": [
       "<Figure size 640x480 with 1 Axes>"
      ]
     },
     "metadata": {},
     "output_type": "display_data"
    }
   ],
   "source": [
    "dados_cenario = dados[(dados['BANDA UDP'] == '10M') & (dados['BER'] == 100000) & (dados['DELAY'] == 100000)]\n",
    "dados_cenario_cubic = dados_cenario[dados_cenario['PROTOCOLO'] == 'cubic']\n",
    "dados_cenario_reno = dados_cenario[dados_cenario['PROTOCOLO'] == 'reno']\n",
    "cubic_taxa_media = dados_cenario_cubic['TAXA DE TRANSFERENCIA'].mean()/1000000\n",
    "reno_taxa_media = dados_cenario_reno['TAXA DE TRANSFERENCIA'].mean()/1000000\n",
    "print(f\"Média da taxa do algoritmo cubic: {cubic_taxa_media:.3} Mbps\")\n",
    "print(f\"Média da taxa do algoritmo reno: {reno_taxa_media:.3} Mbps\")\n",
    "plt.bar(\"Cubic\",cubic_taxa_media)\n",
    "plt.bar(\"Reno\",reno_taxa_media)\n",
    "plt.title('Cubic x Reno')\n",
    "plt.show()"
   ]
  },
  {
   "cell_type": "markdown",
   "metadata": {},
   "source": [
    "### Cenário 3\n",
    "- Tráfego UDP 10 Mbps\n",
    "- BER 1e-6\n",
    "- Delay 10ms"
   ]
  },
  {
   "cell_type": "code",
   "execution_count": 70,
   "metadata": {},
   "outputs": [
    {
     "name": "stdout",
     "output_type": "stream",
     "text": [
      "Média da taxa do algoritmo cubic: 75.8 Mbps\n",
      "Média da taxa do algoritmo reno: 53.6 Mbps\n"
     ]
    },
    {
     "data": {
      "image/png": "[encoded data removed]",
      "text/plain": [
       "<Figure size 640x480 with 1 Axes>"
      ]
     },
     "metadata": {},
     "output_type": "display_data"
    }
   ],
   "source": [
    "dados_cenario = dados[(dados['BANDA UDP'] == '10M') & (dados['BER'] == 1000000) & (dados['DELAY'] == 10000)]\n",
    "dados_cenario_cubic = dados_cenario[dados_cenario['PROTOCOLO'] == 'cubic']\n",
    "dados_cenario_reno = dados_cenario[dados_cenario['PROTOCOLO'] == 'reno']\n",
    "cubic_taxa_media = dados_cenario_cubic['TAXA DE TRANSFERENCIA'].mean()/1000000\n",
    "reno_taxa_media = dados_cenario_reno['TAXA DE TRANSFERENCIA'].mean()/1000000\n",
    "print(f\"Média da taxa do algoritmo cubic: {cubic_taxa_media:.3} Mbps\")\n",
    "print(f\"Média da taxa do algoritmo reno: {reno_taxa_media:.3} Mbps\")\n",
    "plt.bar(\"Cubic\",cubic_taxa_media)\n",
    "plt.bar(\"Reno\",reno_taxa_media)\n",
    "plt.title('Cubic x Reno')\n",
    "plt.show()"
   ]
  },
  {
   "cell_type": "markdown",
   "metadata": {},
   "source": [
    "### Cenário 4\n",
    "- Tráfego UDP 10 Mbps\n",
    "- BER 1e-6\n",
    "- Delay 100ms"
   ]
  },
  {
   "cell_type": "code",
   "execution_count": 71,
   "metadata": {},
   "outputs": [
    {
     "name": "stdout",
     "output_type": "stream",
     "text": [
      "Média da taxa do algoritmo cubic: 15.2 Mbps\n",
      "Média da taxa do algoritmo reno: 13.5 Mbps\n"
     ]
    },
    {
     "data": {
      "image/png": "[encoded data removed]",
      "text/plain": [
       "<Figure size 640x480 with 1 Axes>"
      ]
     },
     "metadata": {},
     "output_type": "display_data"
    }
   ],
   "source": [
    "dados_cenario = dados[(dados['BANDA UDP'] == '10M') & (dados['BER'] == 1000000) & (dados['DELAY'] == 100000)]\n",
    "dados_cenario_cubic = dados_cenario[dados_cenario['PROTOCOLO'] == 'cubic']\n",
    "dados_cenario_reno = dados_cenario[dados_cenario['PROTOCOLO'] == 'reno']\n",
    "cubic_taxa_media = dados_cenario_cubic['TAXA DE TRANSFERENCIA'].mean()/1000000\n",
    "reno_taxa_media = dados_cenario_reno['TAXA DE TRANSFERENCIA'].mean()/1000000\n",
    "print(f\"Média da taxa do algoritmo cubic: {cubic_taxa_media:.3} Mbps\")\n",
    "print(f\"Média da taxa do algoritmo reno: {reno_taxa_media:.3} Mbps\")\n",
    "plt.bar(\"Cubic\",cubic_taxa_media)\n",
    "plt.bar(\"Reno\",reno_taxa_media)\n",
    "plt.title('Cubic x Reno')\n",
    "plt.show()"
   ]
  },
  {
   "cell_type": "markdown",
   "metadata": {},
   "source": [
    "### Cenário 5\n",
    "- Tráfego UDP 500 Mbps\n",
    "- BER 1e-5\n",
    "- Delay 10ms"
   ]
  },
  {
   "cell_type": "code",
   "execution_count": 72,
   "metadata": {},
   "outputs": [
    {
     "name": "stdout",
     "output_type": "stream",
     "text": [
      "Média da taxa do algoritmo cubic: 5.08 Mbps\n",
      "Média da taxa do algoritmo reno: 4.31 Mbps\n"
     ]
    },
    {
     "data": {
      "image/png": "[encoded data removed]",
      "text/plain": [
       "<Figure size 640x480 with 1 Axes>"
      ]
     },
     "metadata": {},
     "output_type": "display_data"
    }
   ],
   "source": [
    "dados_cenario = dados[(dados['BANDA UDP'] == '500M') & (dados['BER'] == 100000) & (dados['DELAY'] == 10000)]\n",
    "dados_cenario_cubic = dados_cenario[dados_cenario['PROTOCOLO'] == 'cubic']\n",
    "dados_cenario_reno = dados_cenario[dados_cenario['PROTOCOLO'] == 'reno']\n",
    "cubic_taxa_media = dados_cenario_cubic['TAXA DE TRANSFERENCIA'].mean()/1000000\n",
    "reno_taxa_media = dados_cenario_reno['TAXA DE TRANSFERENCIA'].mean()/1000000\n",
    "print(f\"Média da taxa do algoritmo cubic: {cubic_taxa_media:.3} Mbps\")\n",
    "print(f\"Média da taxa do algoritmo reno: {reno_taxa_media:.3} Mbps\")\n",
    "plt.bar(\"Cubic\",cubic_taxa_media)\n",
    "plt.bar(\"Reno\",reno_taxa_media)\n",
    "plt.title('Cubic x Reno')\n",
    "plt.show()"
   ]
  },
  {
   "cell_type": "markdown",
   "metadata": {},
   "source": [
    "### Cenário 6\n",
    "- Tráfego UDP 500 Mbps\n",
    "- BER 1e-5\n",
    "- Delay 100ms"
   ]
  },
  {
   "cell_type": "code",
   "execution_count": 73,
   "metadata": {},
   "outputs": [
    {
     "name": "stdout",
     "output_type": "stream",
     "text": [
      "Média da taxa do algoritmo cubic: 2.07 Mbps\n",
      "Média da taxa do algoritmo reno: 1.07 Mbps\n"
     ]
    },
    {
     "data": {
      "image/png": "[encoded data removed]",
      "text/plain": [
       "<Figure size 640x480 with 1 Axes>"
      ]
     },
     "metadata": {},
     "output_type": "display_data"
    }
   ],
   "source": [
    "dados_cenario = dados[(dados['BANDA UDP'] == '500M') & (dados['BER'] == 100000) & (dados['DELAY'] == 100000)]\n",
    "dados_cenario_cubic = dados_cenario[dados_cenario['PROTOCOLO'] == 'cubic']\n",
    "dados_cenario_reno = dados_cenario[dados_cenario['PROTOCOLO'] == 'reno']\n",
    "cubic_taxa_media = dados_cenario_cubic['TAXA DE TRANSFERENCIA'].mean()/1000000\n",
    "reno_taxa_media = dados_cenario_reno['TAXA DE TRANSFERENCIA'].mean()/1000000\n",
    "print(f\"Média da taxa do algoritmo cubic: {cubic_taxa_media:.3} Mbps\")\n",
    "print(f\"Média da taxa do algoritmo reno: {reno_taxa_media:.3} Mbps\")\n",
    "plt.bar(\"Cubic\",cubic_taxa_media)\n",
    "plt.bar(\"Reno\",reno_taxa_media)\n",
    "plt.title('Cubic x Reno')\n",
    "plt.show()"
   ]
  },
  {
   "cell_type": "markdown",
   "metadata": {},
   "source": [
    "### Cenaŕio 7\n",
    "- Tráfego UDP 500 Mbps\n",
    "- BER 1e-6\n",
    "- Delay 10ms"
   ]
  },
  {
   "cell_type": "code",
   "execution_count": 74,
   "metadata": {},
   "outputs": [
    {
     "name": "stdout",
     "output_type": "stream",
     "text": [
      "Média da taxa do algoritmo cubic: 49.7 Mbps\n",
      "Média da taxa do algoritmo reno: 79.1 Mbps\n"
     ]
    },
    {
     "data": {
      "image/png": "[encoded data removed]",
      "text/plain": [
       "<Figure size 640x480 with 1 Axes>"
      ]
     },
     "metadata": {},
     "output_type": "display_data"
    }
   ],
   "source": [
    "dados_cenario = dados[(dados['BANDA UDP'] == '500M') & (dados['BER'] == 1000000) & (dados['DELAY'] == 10000)]\n",
    "dados_cenario_cubic = dados_cenario[dados_cenario['PROTOCOLO'] == 'cubic']\n",
    "dados_cenario_reno = dados_cenario[dados_cenario['PROTOCOLO'] == 'reno']\n",
    "cubic_taxa_media = dados_cenario_cubic['TAXA DE TRANSFERENCIA'].mean()/1000000\n",
    "reno_taxa_media = dados_cenario_reno['TAXA DE TRANSFERENCIA'].mean()/1000000\n",
    "print(f\"Média da taxa do algoritmo cubic: {cubic_taxa_media:.3} Mbps\")\n",
    "print(f\"Média da taxa do algoritmo reno: {reno_taxa_media:.3} Mbps\")\n",
    "plt.bar(\"Cubic\",cubic_taxa_media)\n",
    "plt.bar(\"Reno\",reno_taxa_media)\n",
    "plt.title('Cubic x Reno')\n",
    "plt.show()"
   ]
  },
  {
   "cell_type": "markdown",
   "metadata": {},
   "source": [
    "### Cenário 8\n",
    "- Tráfego UDP 500 Mbps\n",
    "- BER 1e-6\n",
    "- Delay 100ms"
   ]
  },
  {
   "cell_type": "code",
   "execution_count": 75,
   "metadata": {},
   "outputs": [
    {
     "name": "stdout",
     "output_type": "stream",
     "text": [
      "Média da taxa do algoritmo cubic: 12.6 Mbps\n",
      "Média da taxa do algoritmo reno: 5.51 Mbps\n"
     ]
    },
    {
     "data": {
      "image/png": "[encoded data removed]",
      "text/plain": [
       "<Figure size 640x480 with 1 Axes>"
      ]
     },
     "metadata": {},
     "output_type": "display_data"
    }
   ],
   "source": [
    "dados_cenario = dados[(dados['BANDA UDP'] == '500M') & (dados['BER'] == 1000000) & (dados['DELAY'] == 100000)]\n",
    "dados_cenario_cubic = dados_cenario[dados_cenario['PROTOCOLO'] == 'cubic']\n",
    "dados_cenario_reno = dados_cenario[dados_cenario['PROTOCOLO'] == 'reno']\n",
    "cubic_taxa_media = dados_cenario_cubic['TAXA DE TRANSFERENCIA'].mean()/1000000\n",
    "reno_taxa_media = dados_cenario_reno['TAXA DE TRANSFERENCIA'].mean()/1000000\n",
    "print(f\"Média da taxa do algoritmo cubic: {cubic_taxa_media:.3} Mbps\")\n",
    "print(f\"Média da taxa do algoritmo reno: {reno_taxa_media:.3} Mbps\")\n",
    "plt.bar(\"Cubic\",cubic_taxa_media)\n",
    "plt.bar(\"Reno\",reno_taxa_media)\n",
    "plt.title('Cubic x Reno')\n",
    "plt.show()"
   ]
  }
 ],
 "metadata": {
  "kernelspec": {
   "display_name": "base",
   "language": "python",
   "name": "python3"
  },
  "language_info": {
   "codemirror_mode": {
    "name": "ipython",
    "version": 3
   },
   "file_extension": ".py",
   "mimetype": "text/x-python",
   "name": "python",
   "nbconvert_exporter": "python",
   "pygments_lexer": "ipython3",
   "version": "3.11.7"
  }
 },
 "nbformat": 4,
 "nbformat_minor": 2
}
