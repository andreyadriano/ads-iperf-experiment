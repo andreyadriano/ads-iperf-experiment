{
 "cells": [
  {
   "cell_type": "markdown",
   "metadata": {},
   "source": [
    "# Análise de dados\n",
    "\n",
    "## Métricas\n",
    "\n",
    "Taxa de transmissão média\n",
    "\n",
    "## Parâmetros fixados\n",
    "\n",
    "- Links ethernet 1 Gbps\n",
    "- Links entre PC e roteador com BER 0\n",
    "- Janela padrão do TCP\n",
    "- Tráfego de background somente UDP\n",
    "\n",
    "## Fatores e níveis\n",
    "\n",
    "- Algoritmo de congestionamento\n",
    "    - Cubic\n",
    "    - Reno\n",
    "- BER entre os roteadores 1 e 2\n",
    "    - 1e-5\n",
    "    - 1e-6\n",
    "- Delay no link entre roteadores\n",
    "    - 10ms\n",
    "    - 100ms\n",
    "- Tráfego de background\n",
    "    - 10 Mbps\n",
    "    - 500 Mbps\n",
    "\n",
    "## Técnicas utilizadas"
   ]
  },
  {
   "cell_type": "markdown",
   "metadata": {},
   "source": [
    "## Importando bibliotecas"
   ]
  },
  {
   "cell_type": "code",
   "execution_count": null,
   "metadata": {},
   "outputs": [],
   "source": [
    "import pandas as pd\n",
    "import numpy as np\n",
    "import matplotlib.pyplot as plt"
   ]
  }
 ],
 "metadata": {
  "kernelspec": {
   "display_name": "base",
   "language": "python",
   "name": "python3"
  },
  "language_info": {
   "name": "python",
   "version": "3.11.7"
  }
 },
 "nbformat": 4,
 "nbformat_minor": 2
}
